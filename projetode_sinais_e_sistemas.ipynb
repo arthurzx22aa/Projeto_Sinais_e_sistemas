{
  "cells": [
    {
      "cell_type": "markdown",
      "metadata": {
        "id": "view-in-github",
        "colab_type": "text"
      },
      "source": [
        "<a href=\"https://colab.research.google.com/github/arthurzx22aa/Projeto_Sinais_e_sistemas/blob/main/projetode_sinais_e_sistemas.ipynb\" target=\"_parent\"><img src=\"https://colab.research.google.com/assets/colab-badge.svg\" alt=\"Open In Colab\"/></a>"
      ]
    },
    {
      "cell_type": "markdown",
      "source": [
        "<h1>Projeto de Sinais e Sistemas - Reconhecedor de Sons: Pets</h1>\n",
        "Universidade Federal de Pernambuco - UFPE |\n",
        "Centro de Informática - CIn <br/>\n",
        "Curso de Engenharia da Computação <br/>\n",
        "Disciplina: ES413 - Sinais e Sistemas | Projeto - 2023.2 <br/>\n",
        "Alunos:<br/>\n",
        "Arthur Thierre (atss) <br/>\n",
        "Juliana Serafim (jss4) <br/>\n",
        "Rômulo Andrade (raasa) <br/>\n"
      ],
      "metadata": {
        "id": "QZ0oCaplD4xZ"
      }
    },
    {
      "cell_type": "markdown",
      "source": [
        "## Introdução"
      ],
      "metadata": {
        "id": "JYR7b2q3HcPl"
      }
    },
    {
      "cell_type": "markdown",
      "source": [
        "O objetivo do projeto da disciplina é construir e apresentar, a partir de sinais de áudio, um modelo para reconhecimento de alguma categoria de sons, sendo atendidas as especificações requisitadas.\n",
        "\n",
        "**Motivação tema escolhido**<br/>\n",
        "\n",
        "Segundo o SEBRAE, desde 2022 o mercado de pets no Brasil arrecada mais de R$ 40 bilhões por ano.\n",
        "\n",
        "Dentro desse mercado emergente surge a **oportunidade de inovação** com a proposta do grupo de criar um **modelo de reconhecimento de comando sonoros dos animais de estimação para ativar um alimentador automático**.\n",
        "\n",
        "Dessa forma, o grupo desenvolve neste arquivo um **modelo de reconhecimento de sons de pets** para ser a base de ativação da proposta de criar um alimentador automático por input do próprio pet."
      ],
      "metadata": {
        "id": "KLDcmGVWHeqE"
      }
    },
    {
      "cell_type": "markdown",
      "source": [
        "## Data Collection\n",
        "\n",
        "O banco de dados escolhido é o E-50, no qual foi segmentado em alguns casos para teste de acurácia do modelo:\n",
        "\n",
        "\n",
        "1.   **Database Geral**: arquivos de sons de vários animais na pasta `Pet` e arquivos de outros fenômenos sonoros incluídos no E-50 na pasta `Others`\n",
        "2.   **Database Gato e Cachorro**: uma pasta `Pet` com 40 áudios de gatos e 40 áudios de cachorros e uma pasta `No Pets` com 80 áudios de outra natureza escolhidos aleatoriamente\n",
        "3. **Database Cachorro**: uma pasta `Pet` com 40 áudios de cachorros e `No Pets` com 40 áudios de outro tipo escolhidos aleatoriamente\n",
        "4. **Database Gato**: análogo ao banco de dados anterior porém com os 40 áudios de gatos\n",
        "\n",
        "A necessidade e a implementação dessa forma segmentada do banco de dados surgiu a partir do desenvolvimento do projeto, no qual à medida que foi levantada as hipotéses para melhoria do modelo, elas eram implementadas. Dessa forma, não há uma parte especifica do código para criação ou segmentação desses bancos de dados, uma vez que essa criação foi feita manualmente a partir da classificação das pastas do banco de dados fonte `E-50`.\n",
        "\n",
        "Além disso, pelos áudios do banco de dados `E-50` já estarem tratados **não houve necessidade de fazer pré-processamento de dados para nosso modelo**."
      ],
      "metadata": {
        "id": "ddayVOn-LP5I"
      }
    },
    {
      "cell_type": "markdown",
      "source": [
        "## Extratores\n"
      ],
      "metadata": {
        "id": "1XMf_DcTPrDt"
      }
    },
    {
      "cell_type": "markdown",
      "source": [
        "A medida em que desenvolvemos e colhemos os resultados do projeto, fomos alterando ou o banco de dados ou os extratores utilizados para melhoria da acurácia e assim se ter um modelo satisfatório.\n",
        "\n",
        "Desse modo, ao decorrer do projeto usamos os seguintes extratores:\n",
        "\n",
        "\n",
        "1.   Abordagem com Transformada Rápida de Fourier combinada:\n",
        "\n",
        "*   Fast Fourier Transform (FFT)\n",
        "*   Root Mean Square Energy - RMS\n",
        "* Zero Crossing Rate\n",
        "* Mel-frequency cepstral coefficients (MFCCs)\n",
        "* Spectral bandwidth\n",
        "\n",
        "\n",
        "2.   Abordagem de comparação de extratores encontrados na literatura:\n",
        "\n",
        "\n",
        "\n",
        "*   SFTF\n",
        "*   Rasta - PLP\n",
        "* GFCC\n",
        "\n",
        "\n",
        "\n",
        "\n"
      ],
      "metadata": {
        "id": "gQEcW3SKP9IK"
      }
    },
    {
      "cell_type": "markdown",
      "source": [
        "## Classificador"
      ],
      "metadata": {
        "id": "O8OybQEgPyAB"
      }
    },
    {
      "cell_type": "markdown",
      "source": [
        "Em todas as abordagens do modelo foi usado o algoritmo **K-Nearest Neighbors (KNN) como classificador**.\n",
        "\n",
        "Uma vez que divimos o banco de dados em Pets e No Pets, a metodologia do KNN faz sentido, pois o KNN tenta classificar cada amostra de um conjunto de dados avaliando sua distância em relação aos vizinhos mais próximos, de modo que se os vizinhos mais próximos forem majoritariamente de uma classe, a amostra em questão será classificada nesta categoria.\n",
        "\n",
        "Como temos apenas duas categorias há uma praticidade em usar o KNN."
      ],
      "metadata": {
        "id": "XbeQfx_6P-8X"
      }
    },
    {
      "cell_type": "markdown",
      "source": [
        "## Modelo Final\n"
      ],
      "metadata": {
        "id": "_hioIJ0hd-Sl"
      }
    },
    {
      "cell_type": "markdown",
      "source": [
        "A proposta final do grupo para o criar um modelo de reconhecimento de comando sonoros dos animais de estimação para ativar um alimentador automático se baseia nas seguintes premissas:\n",
        "\n",
        "\n",
        "1.   A utilização de dois softwares:\n",
        "\n",
        "\n",
        "*   Um com o reconhecedor de sons de gato, miado\n",
        "*   Outro com o reconhecedor de sons de cachorro, latido\n",
        "\n",
        "Essa divisão se dá pelas características do sinal de um miado e um latido serem muito diferentes, o latido apresenta picos no espectro da frequência enquanto o miado é mais longo no espectro de frequência, assim unir essas duas distintas características em uma só categoria diminuir a acurácia do modelo. Dessa forma que o modelo de reconhecimento de funciona melhor classificando sons de gatos e de cachorros separadamente.\n",
        "\n",
        "\n",
        "2.   Reconhecedor de sons implementado com o extrator GFCC\n",
        "\n",
        "O extrator GFCC adapta os coeficiente de MFCC usando a transformada de Greenwood de forma a considerar a frequência coclear para todas as espécies, isto é, a cóclea é um órgão responsável pela função auditiva, onde o som é convertido em sinais elétricos e enviado para o cérebro assim ela tem uma capacidade excecional para analisar o som, tanto em frequência como em intensidade e a frequência coclear é a faixa de frequência que cada espécie escuta.\n",
        "\n",
        "Por essa adaptação o GFCC teve métricas melhores sendo o escolhido para a base do reconhecedor para o software do alimentador automático.\n",
        "\n"
      ],
      "metadata": {
        "id": "uJ-HEtGEeXTA"
      }
    },
    {
      "cell_type": "markdown",
      "source": [
        "A seguir será mostrado como chegamos ao modelo final de reconhecedor do nosso projeto"
      ],
      "metadata": {
        "id": "3-3NX93fnrtK"
      }
    },
    {
      "cell_type": "markdown",
      "source": [
        "#Primeira abordagem: FFT combinado"
      ],
      "metadata": {
        "id": "OEd4-G4zI48u"
      }
    },
    {
      "cell_type": "markdown",
      "source": [
        "**Fast Fourier Transform (FFT)**:\n",
        "\n",
        "Fast fourier transform é um algoritmo que determina a transformada discreta de fourier the algum sinal, mais rapido do que um calculo convencional.\n",
        "\n",
        "**Root Mean Square Energy - RMS**:\n",
        "\n",
        "O valor RMS é um conjunto de valores, de um sinal contínuo, é a raiz quadrada do somatório dos quadrados dos valores de uma função.\n",
        "\n",
        "**Zero Crossing Rate**\n",
        "\n",
        "É a taxa pela qual o sinal muda sinal (positivo/negativo). Tem como extrair informações sobre a frequência do sinal.\n",
        "\n",
        "**Mel-frequency cepstral coefficients (MFCCs)**\n",
        "\n",
        "O MFCC de é um sinal de aduio, é um pequeno conjunto de características, que descrevem a forma de onda espectral do sinal.\n",
        "\n",
        "**Spectral bandwidth**\n",
        "\n",
        "Está relacionada à largura da física da fenda e dispersão óptica do sistema monocromador.\n"
      ],
      "metadata": {
        "id": "DI5c94d5hV-g"
      }
    },
    {
      "cell_type": "markdown",
      "source": [
        "### Importações"
      ],
      "metadata": {
        "id": "xTglD9m4Tg2q"
      }
    },
    {
      "cell_type": "code",
      "source": [
        "#importações\n",
        "%matplotlib inline\n",
        "from pathlib import Path\n",
        "import os\n",
        "import numpy as np\n",
        "import random\n",
        "import sklearn as scikit_learn\n",
        "import IPython.display as ipd\n",
        "import matplotlib.pyplot as plt\n",
        "import librosa\n",
        "import librosa.display\n",
        "import seaborn\n",
        "import matplotlib.pyplot as plt\n",
        "from sklearn.metrics import confusion_matrix, accuracy_score, precision_score\n",
        "import seaborn as sns\n",
        "\n",
        "from sklearn.neighbors import KNeighborsClassifier\n",
        "from sklearn.model_selection import train_test_split\n",
        "from sklearn.preprocessing import MinMaxScaler"
      ],
      "metadata": {
        "id": "HSPgMuCIIflY"
      },
      "execution_count": null,
      "outputs": []
    },
    {
      "cell_type": "markdown",
      "source": [
        "### Funções para o código do FFT combinado"
      ],
      "metadata": {
        "id": "jHFPIU60T8M2"
      }
    },
    {
      "cell_type": "code",
      "source": [
        "# Extrator de features:\n",
        "def get_features(x, sr):\n",
        "    features = []\n",
        "\n",
        "    #Root Mean Square Energy\n",
        "    rms = librosa.feature.zero_crossing_rate(y=x)\n",
        "    features.append(rms.mean())\n",
        "\n",
        "    # Fast Fourier Transform\n",
        "    fft = np.fft.fft(x)\n",
        "    features.append(np.mean(np.abs(fft)))\n",
        "\n",
        "    #Zero Crossing Rate\n",
        "    zcr = librosa.feature.zero_crossing_rate(y=x)\n",
        "    features.append(zcr.mean())\n",
        "\n",
        "    #Mel-frequency cepstral coefficients (MFCCs)\n",
        "    mfcc = librosa.feature.mfcc(y=x, sr= sr)\n",
        "    features.append(mfcc.mean())\n",
        "\n",
        "    #Spectral bandwidth\n",
        "    sr = librosa.feature.spectral_rolloff(y=x, sr= sr)\n",
        "    features.append(sr.mean())\n",
        "\n",
        "    return features\n",
        "\n",
        "# Leitura e separacao dos arquivos das pastas:\n",
        "def extract(audios, directory):\n",
        "  X = []\n",
        "  Y = []\n",
        "  aux = []\n",
        "\n",
        "  for audio in audios:\n",
        "\n",
        "    path = directory+'/'+audio\n",
        "    for audio_file in os.listdir(path):\n",
        "        audio_path = path+'/'+audio_file\n",
        "        y, sr = librosa.load(audio_path)\n",
        "        aux.append([y, sr])\n",
        "\n",
        "    # Escolhendo audios aleatorios\n",
        "    random.shuffle(aux)\n",
        "    for i in aux:\n",
        "        X.append(get_features(i[0], i[1]))\n",
        "        Y.append(audio)\n",
        "\n",
        "  return X, Y\n"
      ],
      "metadata": {
        "id": "BrHZQZ2wUNsl"
      },
      "execution_count": null,
      "outputs": []
    },
    {
      "cell_type": "markdown",
      "source": [
        "## Modelo FTT Combinado"
      ],
      "metadata": {
        "id": "oQoEM2I6XOnd"
      }
    },
    {
      "cell_type": "code",
      "source": [
        "# Função para o modelo\n",
        "def modelo_ftt_combinado(directory):\n",
        "  X = []\n",
        "  Y = []\n",
        "  aux = []\n",
        "\n",
        "  audios = os.listdir(directory)\n",
        "  X, Y = extract(audios, directory)\n",
        "  scaler = MinMaxScaler()\n",
        "  scaler.fit(X)\n",
        "  X = scaler.transform(X)\n",
        "  X = np.array(X)\n",
        "  Y = np.array(Y)\n",
        "  X_train, X_test, Y_train, Y_test = train_test_split(X, Y, test_size=0.2, random_state= 20)\n",
        "  knn_classifier = KNeighborsClassifier(n_neighbors=1)\n",
        "  knn_classifier.fit(X_train, Y_train)\n",
        "  Y_pred = knn_classifier.predict(X_test)\n",
        "  conf_matrix = confusion_matrix(Y_test, Y_pred)\n",
        "  acuracia = accuracy_score(Y_test, Y_pred)\n",
        "  print(\"Acurácia FTT combinado:\", acuracia)\n",
        "\n",
        "  plot = plt.subplot()\n",
        "  seaborn.heatmap(conf_matrix, cmap=\"Blues\", annot=True, fmt='g', ax=plot)\n",
        "\n",
        "  plot.set_title('Confusion Matrix')\n",
        "  plot.set_xlabel('Predicted')\n",
        "  plot.set_ylabel('True')\n",
        "  plt.xticks(rotation=45, ha=\"right\")\n",
        "  plt.yticks(rotation=0, ha=\"right\")\n",
        "  plot.xaxis.set_ticklabels(audios)\n",
        "  plot.yaxis.set_ticklabels(audios)\n",
        "\n",
        "  plt.show()\n",
        "  return acuracia\n"
      ],
      "metadata": {
        "id": "VkuWhm8AVcn0"
      },
      "execution_count": null,
      "outputs": []
    },
    {
      "cell_type": "markdown",
      "source": [
        "### Resultados do Modelo"
      ],
      "metadata": {
        "id": "6IAJ2e1obaY3"
      }
    },
    {
      "cell_type": "code",
      "source": [
        "metricas_ftt = []\n",
        "database_geral = './ESC-50';\n",
        "database_gato_e_cachorro = './databaseamplo';\n",
        "\n",
        "#Tambem se pode testar o modelo de reconhecedor ftt combinado para gatos e cachorros separadamente versus audios de sons aleatorios\n",
        "#database_cachorro= './database';\n",
        "#database_gato = './databasegatos';\n",
        "\n",
        "database_geral_fft =  modelo_ftt_combinado(database_geral)\n",
        "database_gato_e_cachorro_fft = modelo_ftt_combinado(database_gato_e_cachorro)"
      ],
      "metadata": {
        "colab": {
          "base_uri": "https://localhost:8080/",
          "height": 1020
        },
        "id": "IZnej9KhbZq1",
        "outputId": "1d2c9b95-9469-499e-aa83-01cf6164e19e"
      },
      "execution_count": null,
      "outputs": [
        {
          "output_type": "stream",
          "name": "stdout",
          "text": [
            "Acurácia FTT combinado: 0.8071748878923767\n"
          ]
        },
        {
          "output_type": "display_data",
          "data": {
            "text/plain": [
              "<Figure size 640x480 with 2 Axes>"
            ],
            "image/png": "[encoded data removed]"
          },
          "metadata": {}
        },
        {
          "output_type": "stream",
          "name": "stdout",
          "text": [
            "Acurácia FTT combinado: 0.4166666666666667\n"
          ]
        },
        {
          "output_type": "display_data",
          "data": {
            "text/plain": [
              "<Figure size 640x480 with 2 Axes>"
            ],
            "image/png": "[encoded data removed]"
          },
          "metadata": {}
        }
      ]
    },
    {
      "cell_type": "markdown",
      "source": [
        "**Análise de Resultados**\n",
        "\n",
        "1. Utilizando o Database Gato e Cachorro, database_gato_e_cachorro_fft, somente áudios de gato e cachorro na pasta `Pet`\n",
        "\n",
        "Com pouco menos de 40% de acurácia, nossa primeira abordagem enfrentou problemas devido a alguns fatores:\n",
        "o reconhecer de sinais não é eficiente para sons de animais;\n",
        "Baixa quantidade de dados nos inputs;\n",
        "Buscamos corrigir isso de duas formas:\n",
        "Aumentando a quantidade de dados para treinamento, sendo eles de mais animais;\n",
        "Utilização de outros extratores que buscamos em outras literaturas;\n",
        "\n",
        "2. Utilizando o Database Geral, database_geral_fft, ou seja, aumento de animais na categoria pets\n",
        "\n",
        "Aumento acurácia para quase 80%, usando os mesmo extratores da primeira abordagem, mas mudando os audios da nossa database, colocando apenas animais dentro do treinamento, e separando as categorias de Gato e Cachorro, que são os objetivos do projeto.\n",
        "\n",
        "Aumento da quantidade de dados\n",
        "Melhor exploração do conjunto de animais\n"
      ],
      "metadata": {
        "id": "U9IXFS34oPVY"
      }
    },
    {
      "cell_type": "markdown",
      "source": [
        "# Abordagem comparação de Extratores"
      ],
      "metadata": {
        "id": "wPs4ZJQ_HV9o"
      }
    },
    {
      "cell_type": "markdown",
      "source": [
        "Segundo Sharma G., etc al, 2019, para classificação de áudios de animais dois extratores são recomendados GFFC e Rasta-PLP\n",
        "\n",
        "\n",
        " Referência: Garima Sharma, Kartikeyan Umapathy, Sridhar Krishnan. Trends in audio signal feature extraction methods, The Department of Electrical and Computer Engineering, Ryerson University, ON M5B 2K3, Canada."
      ],
      "metadata": {
        "id": "NcE8TEH_rMnF"
      }
    },
    {
      "cell_type": "markdown",
      "source": [
        "### Extratores utilizados e seu funcionamento"
      ],
      "metadata": {
        "id": "V7rCJBY5jOWA"
      }
    },
    {
      "cell_type": "markdown",
      "source": [
        "**Short-Time Fourier Transfom (STFT)**\n",
        "\n",
        "Esse extrator faz uma transformada de fourier “mais lenta”, pois ela separa o sinal em vários segmentos, e calculada a transformada de cada segmento individualmente.\n",
        "\n",
        "**Rasta - PLP**\n",
        "\n",
        "Aplica um filtro passa-banda à energia em cada sub-banda de frequência, a fim de suavizar o curto prazo variações de ruído e para remover qualquer deslocamento constante resultante da coloração espectral estática na fala sinal.\n",
        "\n",
        "**Greenwood function cepstral coefficients (GFCC)**\n",
        "\n",
        "É uma derivação da equação de Greenwood. Podem ser implementados com poucas informações, essencial com o mínimo e máximo do alcance da frequência.\n"
      ],
      "metadata": {
        "id": "osGAn-C2is_k"
      }
    },
    {
      "cell_type": "markdown",
      "source": [
        "### Bibliotecas"
      ],
      "metadata": {
        "id": "KYq8tlJAkJI-"
      }
    },
    {
      "cell_type": "markdown",
      "source": [
        "São usadas as mesmas bibliotecas da outra abordagem mas deixando as importações aqui caso se queira rodar essa abordagem sem a anterior."
      ],
      "metadata": {
        "id": "GyGBekGKZgJn"
      }
    },
    {
      "cell_type": "code",
      "source": [
        "from os import listdir\n",
        "from os.path import isdir, join\n",
        "import os\n",
        "import numpy as np\n",
        "import librosa\n",
        "\n",
        "from sklearn.model_selection import train_test_split\n",
        "from sklearn.neighbors import KNeighborsClassifier\n",
        "from sklearn.metrics import accuracy_score, confusion_matrix\n",
        "\n",
        "import matplotlib.pyplot as plt\n",
        "import seaborn as sns"
      ],
      "metadata": {
        "id": "uq1deU5vIEpK"
      },
      "execution_count": null,
      "outputs": []
    },
    {
      "cell_type": "markdown",
      "source": [
        "## Execução dessa abordagem"
      ],
      "metadata": {
        "id": "3x7xrlyMuhUa"
      }
    },
    {
      "cell_type": "markdown",
      "source": [
        "Temos as bases de dados explicadas no começo do notebook na seção de Data Collection para rodar a comparação dos extratores deve-se escolher qual database será usado e substituir na variável **diretorio_principal** da célula abaixo\n",
        "\n",
        "Modo de uso para\n",
        "\n",
        "database_geral => colar './ESC-50' em diretório principal\n",
        "database_gato_e_cachorro => './databaseamplo'\n",
        "database_cachorro=> './database'\n",
        "database_gato => './databasegatos'"
      ],
      "metadata": {
        "id": "JkVx7MzQuqKl"
      }
    },
    {
      "cell_type": "markdown",
      "source": [
        "## Input do Database a ser comparado"
      ],
      "metadata": {
        "id": "hVj6RifKknva"
      }
    },
    {
      "cell_type": "markdown",
      "source": [
        "Aqui as trocas de banco de dados sao feitas manualmente e para gerar o output de cada extrator rodar a celula do extrator correspondente, conforme explicado acima."
      ],
      "metadata": {
        "id": "IZwf2Hpnvp17"
      }
    },
    {
      "cell_type": "code",
      "execution_count": null,
      "metadata": {
        "id": "7YWbphvBj33n"
      },
      "outputs": [],
      "source": [
        "diretorio_principal = './database' # aqui as trocas de banco de dados sao feitas manualmente e para gerar o output de cada extrator rodar a celula do extrator correspondente\n",
        "diretorios = [a for a in listdir(diretorio_principal) if isdir(join(diretorio_principal, a))]\n",
        "\n",
        "audios_classificados = []\n",
        "\n",
        "for i in range(0, len(diretorios)):\n",
        "  arquivo = listdir(join(diretorio_principal,diretorios[i]))\n",
        "\n",
        "  for j in range(0, 40):\n",
        "    caminho_audio = join(diretorio_principal,diretorios[i],arquivo[j])\n",
        "    audios_classificados.append((caminho_audio,diretorios[i]))"
      ]
    },
    {
      "cell_type": "markdown",
      "source": [
        "## Inputs para os extratores\n"
      ],
      "metadata": {
        "id": "p72cVf6FPjR0"
      }
    },
    {
      "cell_type": "code",
      "source": [
        "audio_paths = []\n",
        "y_stft = []\n",
        "y_rasta_plp = []\n",
        "y_gfcc = []\n",
        "\n",
        "for k in range(0,len(audios_classificados)):\n",
        "  audio_paths.append(audios_classificados[k][0])\n",
        "\n",
        "for w in range(0,len(audios_classificados)):\n",
        "  y_stft.append(audios_classificados[w][1])\n",
        "  y_rasta_plp.append(audios_classificados[w][1])\n",
        "  y_gfcc.append(audios_classificados[w][1])\n",
        "\n",
        "max_length = 800\n",
        "\n",
        "X_stft = []\n",
        "X_rasta_plp = []\n",
        "X_gfcc = []\n",
        "\n",
        "for audio_path in audio_paths:\n",
        "    # Carregamento dos áudios\n",
        "    audio_data, _ = librosa.load(audio_path, sr=None)  # sr=None para preservar a taxa de amostragem original\n",
        "\n",
        "    # Transformada de Fourier\n",
        "    transformed_signal = np.abs(librosa.stft(audio_data))\n",
        "\n",
        "    # Calcular os coeficientes de cochleagrama (uma versão do espectrograma não linear)\n",
        "    cgram_features = librosa.cqt(audio_data, sr=_, n_bins=64)\n",
        "\n",
        "    # Adicionar uma pequena constante antes de calcular o logaritmo\n",
        "    cgram_features = cgram_features + 1e-10\n",
        "\n",
        "    # Calcular os coeficientes GFCC a partir do cochleagrama\n",
        "    gfcc_features = librosa.feature.mfcc(S=librosa.power_to_db(np.abs(cgram_features)**2), n_mfcc=13)\n",
        "\n",
        "    # Extração características PLP\n",
        "    plp_features = librosa.feature.melspectrogram(y=audio_data, sr=_)  # Calcula o espectrograma mel\n",
        "    plp_features = librosa.feature.mfcc(S=librosa.power_to_db(plp_features), n_mfcc=13)  # Calcula os coeficientes MFCC\n",
        "    plp_features = librosa.feature.delta(plp_features)  # Calcula as derivadas dos coeficientes MFCC\n",
        "\n",
        "    # Transformação RASTA\n",
        "    diff = np.diff(plp_features, axis=1)\n",
        "    diff = np.concatenate([np.zeros((diff.shape[0], 1)), diff], axis=1)  # Adiciona uma coluna de zeros no início\n",
        "    rasta_plp_features = plp_features - 0.94 * diff  # Aplica a transformação RASTA\n",
        "\n",
        "    # Redimensão dos vetores\n",
        "    if transformed_signal.shape[1] < max_length:\n",
        "        transformed_signal = np.pad(transformed_signal, ((0, 0), (0, max_length - transformed_signal.shape[1])), mode='constant')\n",
        "    else:\n",
        "        transformed_signal = transformed_signal[:, :max_length]\n",
        "\n",
        "    if gfcc_features.shape[1] < max_length:\n",
        "        gfcc_features = np.pad(gfcc_features, ((0, 0), (0, max_length - gfcc_features.shape[1])), mode='constant')\n",
        "    else:\n",
        "        gfcc_features = gfcc_features[:, :max_length]\n",
        "\n",
        "    if rasta_plp_features.shape[1] < max_length:\n",
        "        rasta_plp_features = np.pad(rasta_plp_features, ((0, 0), (0, max_length - rasta_plp_features.shape[1])), mode='constant')\n",
        "    else:\n",
        "        rasta_plp_features = rasta_plp_features[:, :max_length]\n",
        "\n",
        "    # Normalização\n",
        "    flattened_signal_stft = transformed_signal.flatten()\n",
        "    flattened_features_gfcc = gfcc_features.flatten()\n",
        "    flattened_features_rasta_plp = rasta_plp_features.flatten()\n",
        "\n",
        "    # Lista de características\n",
        "    X_stft.append(flattened_signal_stft)\n",
        "    X_gfcc.append(flattened_features_gfcc)\n",
        "    X_rasta_plp.append(flattened_features_rasta_plp)"
      ],
      "metadata": {
        "id": "Jgkmu81cQYv6"
      },
      "execution_count": null,
      "outputs": []
    },
    {
      "cell_type": "markdown",
      "source": [
        "## Primeiro extrator: Transformada de Fourier"
      ],
      "metadata": {
        "id": "Pxeig46ekoy_"
      }
    },
    {
      "cell_type": "code",
      "source": [
        "# Convertendo X para um array numpy\n",
        "X_stft = np.array(X_stft)\n",
        "\n",
        "# Dividir os dados em conjunto de treinamento e conjunto de teste\n",
        "X_stft_train, X_stft_test, y_stft_train, y_stft_test = train_test_split(X_stft, y_stft, test_size=0.2, random_state=20)\n",
        "\n",
        "# Inicializar o classificador KNN\n",
        "knn_classifier = KNeighborsClassifier(n_neighbors=1)\n",
        "\n",
        "# Treinar o classificador\n",
        "knn_classifier.fit(X_stft_train, y_stft_train)\n",
        "\n",
        "# Prever as classes para o conjunto de teste\n",
        "y_stft_pred = knn_classifier.predict(X_stft_test)\n",
        "\n",
        "# Avaliar a precisão do classificador\n",
        "accuracy_stft = accuracy_score(y_stft_test, y_stft_pred)\n",
        "print(\"Acurácia do KNN:\", accuracy_stft)\n",
        "\n",
        "# Calcular a matriz de confusão\n",
        "cm_stft = confusion_matrix(y_stft_test, y_stft_pred)\n",
        "\n",
        "# Plotar a matriz de confusão\n",
        "plt.figure(figsize=(8, 6))\n",
        "sns.heatmap(cm_stft, annot=True, cmap='Blues', fmt='g')\n",
        "plt.xlabel('Predito')\n",
        "plt.ylabel('Verdadeiro')\n",
        "plt.title('Matriz de Confusão')\n",
        "plt.show()"
      ],
      "metadata": {
        "colab": {
          "base_uri": "https://localhost:8080/",
          "height": 582
        },
        "id": "1Nor3QF20ruS",
        "outputId": "6e4e6835-de85-4259-ade4-53d47fdafe15"
      },
      "execution_count": null,
      "outputs": [
        {
          "output_type": "stream",
          "name": "stdout",
          "text": [
            "Acurácia do KNN: 0.6875\n"
          ]
        },
        {
          "output_type": "display_data",
          "data": {
            "text/plain": [
              "<Figure size 800x600 with 2 Axes>"
            ],
            "image/png": "[encoded data removed]"
          },
          "metadata": {}
        }
      ]
    },
    {
      "cell_type": "markdown",
      "source": [
        "## RASTA-PLP"
      ],
      "metadata": {
        "id": "M6bUdMJzITfx"
      }
    },
    {
      "cell_type": "code",
      "source": [
        "# Convertendo X para um array numpy\n",
        "X_rasta_plp = np.array(X_rasta_plp)\n",
        "\n",
        "# Dividir os dados em conjunto de treinamento e conjunto de teste\n",
        "X_rasta_plp_train, X_rasta_plp_test, y_rasta_plp_train, y_rasta_plp_test = train_test_split(X_rasta_plp, y_rasta_plp, test_size=0.2, random_state=20)\n",
        "\n",
        "# Inicializar o classificador KNN\n",
        "knn_classifier = KNeighborsClassifier(n_neighbors=1)  # Pode ajustar o número de vizinhos (k) conforme necessário\n",
        "\n",
        "# Treinar o classificador\n",
        "knn_classifier.fit(X_rasta_plp_train, y_rasta_plp_train)\n",
        "\n",
        "# Prever as classes para o conjunto de teste\n",
        "y_rasta_plp_pred = knn_classifier.predict(X_rasta_plp_test)\n",
        "\n",
        "# Avaliar a precisão do classificador\n",
        "accuracy_rasta_plp = accuracy_score(y_rasta_plp_test, y_rasta_plp_pred)\n",
        "print(\"Acurácia do KNN com RASTA-PLP:\", accuracy_rasta_plp)\n",
        "\n",
        "# Calcular a matriz de confusão\n",
        "cm_rasta_plp = confusion_matrix(y_rasta_plp_test, y_rasta_plp_pred)\n",
        "\n",
        "# Plotar a matriz de confusão\n",
        "plt.figure(figsize=(8, 6))\n",
        "sns.heatmap(cm_rasta_plp, annot=True, cmap='Blues', fmt='g')\n",
        "plt.xlabel('Predito')\n",
        "plt.ylabel('Verdadeiro')\n",
        "plt.title('Matriz de Confusão (RASTA-PLP)')\n",
        "plt.show()"
      ],
      "metadata": {
        "colab": {
          "base_uri": "https://localhost:8080/",
          "height": 582
        },
        "id": "jXB2vlwMKq93",
        "outputId": "ab0af8df-83eb-4a8e-809a-a333cd8f86a3"
      },
      "execution_count": null,
      "outputs": [
        {
          "output_type": "stream",
          "name": "stdout",
          "text": [
            "Acurácia do KNN com RASTA-PLP: 0.75\n"
          ]
        },
        {
          "output_type": "display_data",
          "data": {
            "text/plain": [
              "<Figure size 800x600 with 2 Axes>"
            ],
            "image/png": "[encoded data removed]"
          },
          "metadata": {}
        }
      ]
    },
    {
      "cell_type": "markdown",
      "source": [
        "## Greenwood Function Cepstral Coefficients - GFCC"
      ],
      "metadata": {
        "id": "PDonamRENfHC"
      }
    },
    {
      "cell_type": "code",
      "source": [
        "# Convertendo X para um array numpy\n",
        "X_gfcc = np.array(X_gfcc)\n",
        "\n",
        "# Dividir os dados em conjunto de treinamento e conjunto de teste\n",
        "X_gfcc_train, X_gfcc_test, y_gfcc_train, y_gfcc_test = train_test_split(X_gfcc, y_gfcc, test_size=0.2, random_state=20)\n",
        "\n",
        "# Inicializar o classificador KNN\n",
        "knn_classifier = KNeighborsClassifier(n_neighbors=1)  # Pode ajustar o número de vizinhos (k) conforme necessário\n",
        "\n",
        "# Treinar o classificador\n",
        "knn_classifier.fit(X_gfcc_train, y_gfcc_train)\n",
        "\n",
        "# Prever as classes para o conjunto de teste\n",
        "y_gfcc_pred = knn_classifier.predict(X_gfcc_test)\n",
        "\n",
        "# Avaliar a precisão do classificador\n",
        "accuracy_gfcc = accuracy_score(y_gfcc_test, y_gfcc_pred)\n",
        "print(\"Acurácia do KNN com GFCC:\", accuracy_gfcc)\n",
        "\n",
        "# Calcular a matriz de confusão\n",
        "cm_gfcc = confusion_matrix(y_gfcc_test, y_gfcc_pred)\n",
        "\n",
        "# Plotar a matriz de confusão\n",
        "plt.figure(figsize=(8, 6))\n",
        "sns.heatmap(cm_gfcc, annot=True, cmap='Blues', fmt='g')\n",
        "plt.xlabel('Predito')\n",
        "plt.ylabel('Verdadeiro')\n",
        "plt.title('Matriz de Confusão (GFCC)')\n",
        "plt.show()"
      ],
      "metadata": {
        "colab": {
          "base_uri": "https://localhost:8080/",
          "height": 582
        },
        "id": "MVyEyR8RNeNu",
        "outputId": "b1fe8351-869e-4b90-d99b-f5d928e9cfde"
      },
      "execution_count": null,
      "outputs": [
        {
          "output_type": "stream",
          "name": "stdout",
          "text": [
            "Acurácia do KNN com GFCC: 0.8125\n"
          ]
        },
        {
          "output_type": "display_data",
          "data": {
            "text/plain": [
              "<Figure size 800x600 with 2 Axes>"
            ],
            "image/png": "[encoded data removed]"
          },
          "metadata": {}
        }
      ]
    },
    {
      "cell_type": "markdown",
      "source": [
        "## Conclusão comparação de extratores\n",
        "\n",
        "Com o uso de novos extratores que encontramos na literatura, em especial RASTA - PLP e GFCC, a acurácia geral passou para mais de 80%, em algumas categorias. O que nos proporcionou melhor desempenho com a solução do projeto.\n",
        "\n",
        "Esse projeto já se mostrou eficaz no que se propõe, sendo 80% eficaz em reconhecer sons de cachorro e de gato. A eficácia poderia ser melhor com uma melhor exploração dos sinais.\n"
      ],
      "metadata": {
        "id": "FYFyOM2jq54m"
      }
    }
  ],
  "metadata": {
    "colab": {
      "provenance": [],
      "mount_file_id": "1_SI0bPNj53qJtNssB4y-VIVAW61pfpux",
      "authorship_tag": "ABX9TyNwDr/fT9oTvgJgkCED75fY",
      "include_colab_link": true
    },
    "kernelspec": {
      "display_name": "Python 3",
      "name": "python3"
    },
    "language_info": {
      "name": "python"
    }
  },
  "nbformat": 4,
  "nbformat_minor": 0
}